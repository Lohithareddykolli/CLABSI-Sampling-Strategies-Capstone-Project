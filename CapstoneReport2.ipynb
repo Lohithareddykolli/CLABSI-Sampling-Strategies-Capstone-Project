{
 "cells": [
  {
   "cell_type": "markdown",
   "id": "a855299c",
   "metadata": {
    "id": "a855299c"
   },
   "source": [
    "# Capstone 2 - BZAN 6361 : Predicting CLABSI in PICU Patients"
   ]
  },
  {
   "cell_type": "markdown",
   "id": "f2bd8015",
   "metadata": {
    "id": "f2bd8015"
   },
   "source": [
    "> Team members: Sai Jahnavi Abbireddy, Sri Lakshmi Chilekampalli, Reshma Kalli, Aryan Sridharala​"
   ]
  },
  {
   "cell_type": "markdown",
   "id": "d476bc88",
   "metadata": {
    "id": "d476bc88"
   },
   "source": [
    "##  Project Overview\n",
    "\n",
    "- In the initial stage of our assignment, we concentrated on identifying the obstacles associated with forecasting Central Line-Associated Bloodstream Infections (CLABSI) among pediatric patients. To approach this effectively, we first built a foundational understanding of CLABSI’s clinical implications and financial burdens. An exploratory data analysis (EDA) was then conducted, offering valuable insights into the dataset’s structure and key variables.\n",
    "\n",
    "- Additionally, we tackled challenges involving missing values and imbalanced classes in the dataset. We experimented with multiple machine learning algorithms and outlined a framework for model evaluation. These preparatory steps were critical in shaping a clearer understanding of the prediction problem and guiding our modeling strategy.\n",
    "\n",
    "- Our primary objective was to ensure that our efforts aligned with the broader goal of aiding healthcare professionals by forecasting CLABSI risks early. Doing so could enhance patient outcomes and cut down on treatment costs. Throughout the process, we were encouraged to maintain regular communication with stakeholders - including clinical teams and hospital administrators - to verify that our direction remained consistent with the project's intended scope.\n",
    "\n",
    "- To assess the strengths of our work and pinpoint areas needing refinement, we considered the project’s goals, background research, exploratory analysis, and technical implementation.\n",
    "\n",
    "---\n",
    "\n",
    "##  Strengths of the Research\n",
    "\n",
    "### Strong Grasp of the Problem and its Context\n",
    "\n",
    "- This project reflects a deep awareness of the significance of CLABSI, focusing on both its healthcare impact and cost-related consequences. The background research underscored the value of early detection, highlighting its potential to minimize patient risks, avoid unnecessary medical expenses, and reduce pressure on healthcare systems. This context helped ground our analysis, ensuring that each step contributed meaningfully to our goals.\n",
    "\n",
    "### Thorough Exploratory Data Analysis\n",
    "\n",
    "- We performed a detailed EDA, using various techniques to understand data patterns, handle missing entries, and examine inter-variable relationships. Visual tools such as histograms and correlation matrices helped us uncover key features potentially tied to CLABSI. This step laid the groundwork for model development by revealing the dataset’s core structure and surfacing important predictors.\n",
    "\n",
    "### Integration of Multiple Machine Learning Methods\n",
    "\n",
    "- Our team explored a range of machine learning models and demonstrated flexibility in adapting to technical challenges. We applied methods like cross-validation to improve robustness and manage class imbalance. This broad exploration not only enhanced prediction reliability but also showcased a thoughtful, technically sound approach to solving healthcare prediction problems.\n",
    "\n",
    "---\n",
    "\n",
    "##  Identified Weaknesses\n",
    "\n",
    "### Limited Justification in Code Commentary\n",
    "\n",
    "- Although we provided explanations for our code, the rationale behind selecting specific methods was sometimes unclear. Offering brief, non-technical context before each code segment would make it easier for readers - especially those without a technical background - to understand the choices we made and how they contributed to the model’s success. For example, clarifying why feature selection was necessary or why we looked at correlations could enhance transparency and understanding.\n",
    "\n",
    "### Surface-Level Interpretation of Findings\n",
    "\n",
    "- Some of our conclusions were summarized too quickly, without delving into deeper interpretations. More extensive analysis of relationships between variables could have added significant value, helping to pinpoint the most predictive features and assess their influence on the model's performance. This depth would make the analysis more informative and help communicate our insights more effectively.\n",
    "\n",
    "### Lack of Smooth Transitions Across Sections\n",
    "\n",
    "- At times, the report felt disjointed, with abrupt shifts between major sections. To improve readability, we could have included brief summaries or transition statements between parts - for instance, linking the EDA findings directly to the modeling plan. Doing so would create a smoother flow and make the document easier to follow.\n",
    "\n",
    "### Insufficient Handling of Class Imbalance\n",
    "\n",
    "- Although we recognized the issue of class imbalance, our approach to correcting it lacked depth. Employing techniques like SMOTE (Synthetic Minority Over-sampling Technique), cost-sensitive learning with adjusted class weights, or stratified cross-validation would have strengthened our model’s fairness across both CLABSI and non-CLABSI predictions. Properly addressing this would have reduced bias and significantly boosted model reliability."
   ]
  },
  {
   "cell_type": "markdown",
   "id": "3c0aadfc",
   "metadata": {
    "id": "3c0aadfc"
   },
   "source": [
    "## Zoom-in Analysis"
   ]
  },
  {
   "cell_type": "markdown",
   "id": "b0651177",
   "metadata": {
    "id": "b0651177"
   },
   "source": [
    "## 🧠 Model Design Strategy\n",
    "\n",
    "To forecast CLABSI outcomes effectively, we implemented four distinct classification algorithms, each offering different strengths in performance, interpretability, and ability to handle imbalanced datasets:\n",
    "\n",
    "- Decision Tree  \n",
    "- K-Nearest Neighbors (KNN)  \n",
    "- Neural Network (Multi-Layer Perceptron)  \n",
    "- Random Forest  \n",
    "\n",
    "By applying a diverse set of models, we aimed to comprehensively evaluate prediction accuracy, interpretability, and model adaptability in the context of skewed class distributions, such as those observed in healthcare datasets.\n",
    "\n",
    "---\n",
    "\n",
    "### 🔹 Model 1: Decision Tree\n",
    "\n",
    "**Overview:**  \n",
    "The Decision Tree is a rule-based, non-linear model that splits data according to feature conditions to assign class labels.\n",
    "\n",
    "**Advantages:**  \n",
    "Highly transparent in its decision-making process, requires minimal data cleaning, and highlights which features are most influential - ideal for feature ranking.\n",
    "\n",
    "**Drawbacks:**  \n",
    "Prone to overfitting unless regularized or pruned properly, which may affect its reliability on unseen data.\n",
    "\n",
    "**Application Insights:**\n",
    "\n",
    "- **Clarity:** The model offers an intuitive understanding of how predictions are made, making it especially useful for medical professionals needing explainable models.  \n",
    "- **Accuracy:** May not outperform more complex models but serves as a strong benchmark due to its transparency.  \n",
    "- **Handling Imbalance:** While adjustable class weights can help, single trees may still underperform when detecting rare classes.\n",
    "\n",
    "---\n",
    "\n",
    "### 🔹 Model 2: K-Nearest Neighbors (KNN)\n",
    "\n",
    "**Overview:**  \n",
    "KNN is a lazy learning algorithm that predicts outcomes based on the majority label among the 'K' most similar instances in the training data.\n",
    "\n",
    "**Advantages:**  \n",
    "Simple to implement and effective for capturing localized structures within the dataset.\n",
    "\n",
    "**Drawbacks:**  \n",
    "Can struggle with larger datasets and is sensitive to class imbalance, as majority class neighbors may dominate predictions.\n",
    "\n",
    "**Application Insights:**\n",
    "\n",
    "- **Clarity:** Less intuitive than a decision tree but helps uncover local clusters that may reveal trends among high-risk patient groups.  \n",
    "- **Accuracy:** Performs well under balanced conditions, but resampling and distance-based weighting may be needed to counteract class imbalance.  \n",
    "- **Handling Imbalance:** Without proper tuning or scaling, the model may overlook minority class patterns due to dominance by the majority class.\n",
    "\n",
    "---\n",
    "\n",
    "### 🔹 Model 3: Neural Network (Multi-Layer Perceptron)\n",
    "\n",
    "**Overview:**  \n",
    "A deep learning model consisting of multiple interconnected layers that can capture complex and non-linear interactions among features.\n",
    "\n",
    "**Advantages:**  \n",
    "Highly effective at uncovering subtle relationships in data, particularly beneficial for nuanced medical datasets.\n",
    "\n",
    "**Drawbacks:**  \n",
    "Requires significant data volume, careful parameter tuning, and is generally harder to interpret.\n",
    "\n",
    "**Application Insights:**\n",
    "\n",
    "- **Clarity:** Limited explainability; however, interpretability techniques like SHAP or feature sensitivity plots can provide partial insights.  \n",
    "- **Accuracy:** Strong potential for high performance, especially in datasets with intricate feature dependencies.  \n",
    "- **Handling Imbalance:** Neural networks allow for flexible tuning via class weighting, dropout, and architecture adjustments to ensure minority classes are not overlooked.\n",
    "\n",
    "---\n",
    "\n",
    "### 🔹 Model 4: Random Forest\n",
    "\n",
    "**Overview:**  \n",
    "An ensemble approach that builds a collection of decision trees and combines their outputs to enhance stability and accuracy.\n",
    "\n",
    "**Advantages:**  \n",
    "Robust against overfitting and typically achieves strong results across a range of datasets.\n",
    "\n",
    "**Drawbacks:**  \n",
    "Interpretability is lower compared to a single decision tree, and it demands greater computational power.\n",
    "\n",
    "**Application Insights:**\n",
    "\n",
    "- **Clarity:** Though not inherently transparent, it offers feature importance metrics that highlight which variables most influence predictions.  \n",
    "- **Accuracy:** Delivers consistently high accuracy and generalization, making it well-suited for critical applications like infection risk prediction.  \n",
    "- **Handling Imbalance:** Performs well with imbalanced data through built-in mechanisms like class weighting and bootstrapping, helping to reduce bias toward majority classes."
   ]
  },
  {
   "cell_type": "markdown",
   "id": "f1dbb0b7",
   "metadata": {
    "id": "f1dbb0b7"
   },
   "source": [
    "## 📈 Model Evaluation Strategy\n",
    "\n",
    "Given the dataset's imbalance, our evaluation approach revolves around three main areas to ensure fairness, accuracy, and business relevance:\n",
    "\n",
    "1. **Mitigating Overfitting:**  \n",
    "   Each machine learning model has varying susceptibility to overfitting. It’s crucial to recognize the conditions under which a model might learn noise rather than meaningful patterns, which undermines its ability to make accurate predictions - particularly for identifying CLABSI risks. Depending on the algorithm, overfitting is diagnosed and addressed through methods such as cross-validation, pruning, or early stopping.\n",
    "\n",
    "2. **Dealing with Bias and Class Imbalance in Model Performance:**  \n",
    "   Because accuracy alone can be misleading in imbalanced datasets, we rely on metrics like the confusion matrix, ROC-AUC, and PR-AUC. These tools help assess model effectiveness more objectively, particularly in distinguishing between correctly and incorrectly predicted classes, and in evaluating performance on the minority (CLABSI-positive) class.\n",
    "\n",
    "3. **Business Relevance of Classification Errors:**  \n",
    "   Our ultimate goal is to enable early, accurate prediction of CLABSI cases to improve patient care and reduce unnecessary costs. In this context, both **False Positives (Type I Errors)** and **False Negatives (Type II Errors)** carry distinct consequences:\n",
    "\n",
    "   > - **False Positive (Type I Error):** Misidentifying a patient as having CLABSI can lead to unnecessary treatment, stress, and healthcare expenditures.  \n",
    "   > - **False Negative (Type II Error):** Failing to detect CLABSI may result in untreated infections, leading to worsened health, extended treatment times, and increased cost.  \n",
    "\n",
    "   Among the two, **Type II errors** are typically more critical due to their direct impact on health outcomes and potential for escalating complications. Hence, our evaluation plan must emphasize minimizing these errors without disproportionately increasing false positives.\n",
    "\n",
    "---\n",
    "\n",
    "### 🔹 Model 1: Decision Tree\n",
    "\n",
    "**Overfitting Challenges:**  \n",
    "- **Why it happens:** Due to the tree's structure of branching decisions based on individual features, it may memorize data patterns too specifically - leading to excellent training performance but poor generalization.  \n",
    "- **How we address it:**  \n",
    "   - **Pruning:** Removing less important branches to avoid capturing noise.  \n",
    "   - **Depth Limiting:** Capping how deep the tree can grow to control complexity.  \n",
    "   - **Cross-validation:** Evaluating performance across multiple data splits to ensure generalization.\n",
    "\n",
    "**Imbalance Assessment Metrics:**  \n",
    "- **Confusion Matrix**  \n",
    "- **Precision, Recall, and F1-score**  \n",
    "> These indicators give a more realistic view of performance on minority classes, especially recall for detecting CLABSI-positive cases and precision to avoid unnecessary alarms.\n",
    "\n",
    "**Handling Error Trade-offs:**  \n",
    "- Tune decision thresholds to control false negatives and false positives.  \n",
    "- Apply precision-recall tradeoff analyses.  \n",
    "- Use class weighting or cost-sensitive metrics to emphasize the minority class during training.\n",
    "\n",
    "---\n",
    "\n",
    "### 🔹 Model 2: K-Nearest Neighbors (KNN)\n",
    "\n",
    "**Overfitting Challenges:**  \n",
    "- **Why it happens:** Small values of *k* make the model overly sensitive to noise and outliers, particularly when irrelevant features dominate.  \n",
    "- **How we address it:**  \n",
    "   - **Cross-validation:** Selects the optimal *k* that balances overfitting and underfitting.  \n",
    "   - **Resampling:** Carefully applying over/under-sampling techniques to better represent both classes.\n",
    "\n",
    "**Imbalance Assessment Metrics:**  \n",
    "- **ROC-AUC:** Measures the model’s ability to separate classes.  \n",
    "- **PR-AUC:** Focuses on how well positive cases (CLABSI) are identified.  \n",
    "> These metrics are less biased than accuracy and provide meaningful evaluation in imbalanced settings.\n",
    "\n",
    "**Handling Error Trade-offs:**  \n",
    "- Use **distance-weighted KNN**, giving closer neighbors greater influence.  \n",
    "- Tune *k* based on observed error patterns.  \n",
    "- Apply class-weighted performance metrics.\n",
    "\n",
    "---\n",
    "\n",
    "### 🔹 Model 3: Neural Network (Multilayer Perceptron)\n",
    "\n",
    "**Overfitting Challenges:**  \n",
    "- **Why it happens:** Neural networks with many neurons and layers can overlearn training data, including noise, especially with limited or imbalanced data.  \n",
    "- **How we address it:**  \n",
    "   - **Early stopping:** Monitors validation loss to prevent over-training.  \n",
    "   - **Pruning or dropout:** Simplifies network structure by reducing parameters.  \n",
    "   - **Synthetic data augmentation:** Increases training variety to reduce overfitting risk.\n",
    "\n",
    "**Imbalance Assessment Metrics:**  \n",
    "- **Precision, Recall, and F1-score**  \n",
    "> These reveal how well the network distinguishes both minority and majority classes in prediction tasks.\n",
    "\n",
    "**Handling Error Trade-offs:**  \n",
    "- Adjust classification thresholds using predicted probabilities.  \n",
    "- Integrate cost analysis to prioritize reductions in more damaging error types.  \n",
    "- Apply class weighting or use loss functions tailored to imbalanced data.\n",
    "\n",
    "---\n",
    "\n",
    "### 🔹 Model 4: Random Forest\n",
    "\n",
    "**Overfitting Challenges:**  \n",
    "- **Why it happens:** Although less susceptible than single decision trees, Random Forests can still overfit if data is noisy or has too many irrelevant features.  \n",
    "- **How we address it:**  \n",
    "   - **Restrict maximum depth:** Limits how detailed each tree can be.  \n",
    "   - **Reduce minimum leaf size:** Prevents over-fragmentation of decisions.  \n",
    "   - **Increase number of trees:** Boosts model stability through averaging.\n",
    "\n",
    "**Imbalance Assessment Metrics:**  \n",
    "- **PR-AUC**, **Precision**, **Recall**, and **F1-score**  \n",
    "> Together, these provide a full picture of performance across both classes - especially how well the model detects and classifies minority class instances.\n",
    "\n",
    "**Handling Error Trade-offs:**  \n",
    "- Lower or raise the prediction threshold based on impact analysis.  \n",
    "- Include cost-sensitive evaluation based on clinical implications.  \n",
    "- Use weighted loss or training strategies that favor balanced outcomes."
   ]
  },
  {
   "cell_type": "markdown",
   "id": "96ff5150",
   "metadata": {
    "id": "96ff5150"
   },
   "source": [
    "### Working with Refined Data by Removing Sectional Variables\n",
    "\n",
    "- Preparing data effectively is a cornerstone of building accurate predictive models, particularly in healthcare scenarios such as predicting Central Line-Associated Bloodstream Infections (CLABSI). The initial step - cleaning and structuring the dataset - ensures it’s ready for modeling. This includes filling in or managing missing entries, discarding non-essential features, and converting data formats to enhance usability. For example, breaking down date fields into components like month, day, and year can reveal important time-based patterns. These early actions don’t  improve the dataset - they strengthen the overall model, enabling more accurate predictions and better insights into patient health outcomes.\n",
    "\n",
    "- A major hurdle in this context is the class imbalance commonly found in medical datasets. Specifically for CLABSI prediction, the number of patients without infection often vastly outnumbers those with the condition. This imbalance can skew the model, causing it to favor the more frequent class and underperform on the minority class. To correct this, several techniques can be applied: balancing the dataset using over- or under-sampling, generating synthetic data through tools like SMOTE, or selecting metrics such as precision, recall, and F1-score that better reflect performance on skewed data. Addressing this challenge is critical for training a fair, well-rounded model capable of accurate predictions across both patient groups.\n",
    "\n",
    "- Model validation is another critical step, particularly in how the data is split for training and testing. A basic random division of data may not preserve the true class distribution, especially in imbalanced datasets. Instead, applying stratified sampling ensures that both the training and test sets reflect the original proportions of CLABSI and non-CLABSI cases. This method offers a more balanced representation and helps the model generalize better to unseen data. In the case of CLABSI prediction, this is essential for assessing how well the model will perform in real-world clinical environments.\n",
    "\n",
    "- To summarize, strong data preparation is essential for building effective machine learning models in healthcare. By thoughtfully addressing issues like class imbalance and employing smart strategies like stratified splitting, we create models that are not only statistically sound but also practically valuable. This approach helps ensure that predictive insights can truly support better clinical decisions and ultimately contribute to improved patient care."
   ]
  },
  {
   "cell_type": "markdown",
   "id": "c30e348e",
   "metadata": {
    "id": "c30e348e"
   },
   "source": [
    "## Interpreting PCA Component Variance\n",
    "\n",
    "- Applying Principal Component Analysis (PCA) is a key step when analyzing datasets with a large number of features. In many real-world cases, datasets may include variables that are repetitive, strongly correlated, or not meaningful. PCA transforms these original variables into a new set of features - called principal components - that are mutually uncorrelated. This transformation not only reduces the dataset's dimensionality but also retains the essential patterns in the data. Each principal component accounts for a portion of the total variance, giving us insight into how much information we keep after compressing the feature space. Focusing on the components that explain the highest variance enables us to streamline our analysis and improve both model performance and interpretability.\n",
    "\n",
    "- Furthermore, PCA is a powerful tool to combat the \"curse of dimensionality\" - a common issue where model performance drops as the number of features increases. High-dimensional data tends to be sparse, making it harder for algorithms to find reliable patterns. By trimming down the number of features while preserving important trends, PCA not only speeds up the training process but also makes the dataset easier to visualize and interpret. This is especially helpful in sensitive healthcare applications like CLABSI prediction, where understanding key data relationships is crucial.\n",
    "\n",
    "- In cases like CLABSI, where the dataset is heavily imbalanced - meaning there are significantly more non-infection cases than infection cases - evaluating model performance becomes more complex. Conventional performance metrics might not truly reflect how well the model detects the minority class. As a result, careful consideration of how the data is divided between training and testing is essential. A basic random split could underrepresent the minority class, leading to skewed evaluation results and overestimating model performance.\n",
    "\n",
    "- To address this, using stratified sampling while splitting the dataset is highly recommended. This ensures both training and testing sets reflect the true class distribution from the original dataset. Such an approach enhances the model’s learning capability across both major and minor classes. This strategy is particularly relevant when revisiting observations from earlier analyses, where the impact of class imbalance may not have been sufficiently addressed. By acknowledging and correcting for this issue, the resulting models become more accurate and equitable.\n",
    "\n",
    "- Once a solid strategy is developed, its execution should be precise. This means carrying out the stratified split and verifying that class proportions are properly maintained. Moreover, integrating cross-validation during model evaluation can further improve the credibility of results. It enables repeated testing on various data splits, providing a clearer picture of model reliability and flagging potential issues like overfitting or underfitting. Together, these practices support the development of a more consistent and reliable prediction model."
   ]
  },
  {
   "cell_type": "markdown",
   "id": "eda8f807",
   "metadata": {
    "id": "eda8f807"
   },
   "source": [
    "### Cross-Validation Evaluation with Random Forest\n",
    "\n",
    "- Preparing the dataset thoroughly is a vital step when building machine learning models, especially in cases involving class imbalance, like predicting Central Line-Associated Bloodstream Infections (CLABSI). When one class (e.g., non-infection cases) is far more common than the other, models often become skewed toward predicting that dominant class. As a result, they may perform poorly on the minority class - even if the overall metrics suggest otherwise. To build a reliable and fair predictive model, it’s important to directly address this imbalance during data preprocessing.\n",
    "\n",
    "- One of the most important steps in this process is how we split the data into training and testing sets. Rather than relying on a standard random split, which may unintentionally distort the class distribution, a stratified approach should be applied. Stratified sampling keeps the ratio of each class consistent across both the training and test sets. This allows the model to train on and be evaluated against data that more accurately reflects the original distribution, improving its ability to generalize to future cases. It also reduces the chance of overfitting, where a model becomes too tailored to the training data and fails to perform well on new, unseen inputs.\n",
    "\n",
    "- Beyond data splitting, cross-validation plays a key role in evaluating model performance. Techniques like k-fold cross-validation involve dividing the data into several subsets, training the model on different combinations, and testing it on the remaining portions. This repeated process provides a broader view of the model’s behavior and helps uncover any inconsistencies or overfitting tendencies. Cross-validation is especially useful in scenarios with limited data or skewed class distributions, as it helps optimize model settings and ensures the final model configuration is both effective and robust. Together, stratified sampling and cross-validation form a strong foundation for building trustworthy predictive models in healthcare contexts like CLABSI prediction."
   ]
  },
  {
   "cell_type": "markdown",
   "id": "58ed05ff",
   "metadata": {
    "id": "58ed05ff"
   },
   "source": [
    "- Cross-validation with the Random Forest model involves dividing the dataset into several subsets, or \"folds,\" and then training and testing the model multiple times using different combinations of these folds. In this case, the process was repeated five times, which provided a broader view of the model’s effectiveness. This technique is especially valuable because it offers a more dependable assessment of how the model might perform on unseen data, reducing the risk of overfitting compared to relying on a single train-test split.\n",
    "\n",
    "- During each iteration, slight changes in random seed values result in different fold combinations, allowing us to examine how consistent the model’s performance is across various data partitions. The results visualized as a series of accuracy scores across the folds demonstrate that the Random Forest classifier consistently performed at a high level, with accuracy rates ranging from 0.95 to 1.0. These strong and steady results highlight the model’s reliability and its ability to generalize effectively. Moreover, the visual representation reinforces the value of using cross-validation as a dependable tool for evaluating model performance."
   ]
  },
  {
   "cell_type": "markdown",
   "id": "c29a84c6",
   "metadata": {
    "id": "c29a84c6"
   },
   "source": [
    "Due to our concerns about the imbalanced dataset, the models above will have to be evaluated based on three factors:\n",
    "- Overfitting problem: One machine learning model may be prone to overfitting than another; therefore, understanding the reason and how to prevent it from happening is crucial for a business to produce the most accurate prediction, which is the likelihood of CLABSI's occurrence. To detect overfitting, a model needs to be examined by various methods depending on the model type.\n",
    "\n",
    "- Bias and imbalanced data's impact on machine learning model's performances: Various performance metrics are used such as confusion matrix, ROC-AUC and PR-AUC(Receiver Operating Charateristic and Precision-Recall Area Under Curve) metric, and more to give a visualization of model performance without being highly affected by class imbalance like accuracy rate.\n",
    "\n",
    "- Business outcome and classification errors: The purpose of this research is to learn the pattern of CLABSI occurrence to provide an accurate future CLABSI prediction effectively and efficiently, as well as reducing medical cost. Out of the four main components in a Confusion Matrix, False Positive (FP-Error Type 1) and False Negative (FN-Error Type 2) are the two classification errors that need to be evaluated and weighted based on their impact on the patients.\n",
    "\n",
    " > - Type 1 Error (FP): False Positive - demonstrating a testing error of incorrectly indicating a presence of CLABSI, causing unnecessary stress, and extra cost for follow-up testing and treatments.\n",
    " > - Type 2 Error (FN): False Negative - the test fails to detect CLABSI's occurrence, leading to untreated progression, leads to severe complications and even death; additionally, late interventions increasing costs and length of treatments that can exhaust patients and healthcare providers.\n",
    "\n",
    "- Type 2 Error is considered to be more costly than Type 1 in both financially, mentally, and physically. Therefore, it is crucial to balance both errors and choose the most or a combination of suitable machine learning models to produce the most accurate results but still satisfying the requirements of stakeholders."
   ]
  },
  {
   "cell_type": "markdown",
   "id": "abc6b8f7",
   "metadata": {
    "id": "abc6b8f7"
   },
   "source": [
    "#### Model 1: Decision Tree"
   ]
  },
  {
   "cell_type": "markdown",
   "id": "f0552496",
   "metadata": {
    "id": "f0552496"
   },
   "source": [
    "Overfitting problem:\n",
    "- Reason: Based on its characteristics as a machine learning model that makes decisions based on input features, it is prone to overfitting because this methods tend to capture noise as the tree branches grow from capturing many key areas in the data. It is shown to have high accuracy on training data but low on testing data.\n",
    "- Solution:\n",
    "    + Pruning: removing sections of the tree, in this case, is irrelevant features that capture noise rather than the actual pattern that can produce results.\n",
    "    + Limiting Tree Depth: restricting the tree from going too far or becoming too complex.\n",
    "    + Cross-validation: splitting dataset into multiple subsets to train and test decision tree model on different segments of the data but still keeping the randomness of the subset data.\n",
    "\n",
    "To assess the imbalance impact on the model, we use:\n",
    "- Confusion matrix\n",
    "- Precision, Recall and F1-score\n",
    "\n",
    "> We use these metrics since they are especially helpful for imbalanced class distributions as they show how well the model indentifies minority class with recall/ sensitivity and an accuracy of positive predictions with precision.\n",
    "\n",
    "To balance the two classisification errors in Decision Tree model, we need to use one or a combination of different methods:\n",
    "- Adjusting the decision threshold: setting a lower threshold which might reduce a chance of missing CLABSI but increase the chance of false alarms depends on business tolerance on a case by case basis.\n",
    "- Precision-recall tradeoff.\n",
    "- Weighted metrics to emphasize on the minority class."
   ]
  },
  {
   "cell_type": "markdown",
   "id": "8b1e1153",
   "metadata": {
    "id": "8b1e1153"
   },
   "source": [
    "#### Model 2: K-Nearest Neighbors (kNN)"
   ]
  },
  {
   "cell_type": "markdown",
   "id": "5fe44346",
   "metadata": {
    "id": "5fe44346"
   },
   "source": [
    "Overfitting problem:\n",
    "- Reason: This usually occurs when the value of k is too small, and too many noises or irrelevant features that can potentially misguide the direction of the results.\n",
    "- Solution:\n",
    "    + k-fold cross-validation: ensuring the chosen k provides a balance between bias and variance.\n",
    "    + Preprocessing the data: under-sampling the majority class and over-sampling the minority. However, this method alters the dataset, so the process needs to be carefully applied and closely monitored.\n",
    "\n",
    "To assess the imbalance impact on the model, we use:\n",
    "- Receiver Operating Characteristic Area under the Curve (ROC-AUC): Showing how well the model can tell the difference between positives and negatives\n",
    "- Precision recall area under the curve (PR-AUC): Focusing more on the quality of the positive predictions\n",
    "\n",
    ">These metrics indicate a better performing model, especially in cases where classes are imbalanced, than other metric like accuracy\n",
    "\n",
    "To balance the two classisification errors in kNN model, we need to use one or a combination of different methods:\n",
    "- Adjusting the decision threshold: using distance-weighted kNN (where closer neighbors have more influence), to adjust the influence of certain neighbors, prioritizes one class based on its distance to other points\n",
    "- Choosing an optimal k-value based on error rates.\n",
    "- Weighted metrics."
   ]
  },
  {
   "cell_type": "markdown",
   "id": "8f44eacb",
   "metadata": {
    "id": "8f44eacb"
   },
   "source": [
    "#### Model 3: Multilayer Perceptron (MLP) Neural Network"
   ]
  },
  {
   "cell_type": "markdown",
   "id": "c5205b1e",
   "metadata": {
    "id": "c5205b1e"
   },
   "source": [
    "Overfitting problem:\n",
    "- Reason: Neural networks, especially, MLPs with many layers and neurons, are prone to overfitting because they can learn complex patterns (and noise) in training data. Overfitting issues can be detected if there was a big gap between training and validation performance\n",
    "- Solution:\n",
    "    + Early stopping: stopping the training process once the model stop improving its performance on the validation set.\n",
    "    + Pruning: involving layer or neuron reduction in each layer to keep the model focus on important features.\n",
    "    + Data augmentation: artificially increasing the size and diversity of the training dataset.\n",
    "\n",
    "To assess the imbalance impact on the model, we use: Precision, Recall, and F1-score for insight into how well the model is identifying both the minority and majority classes.\n",
    "\n",
    "To balance the two classisification errors in MLP model, we need to use one or a combination of different methods:\n",
    "- Adjusting the decision threshold: using probability scores from trained model on test set to adjust decision threshold based on performance.\n",
    "- Cost-benefit analysis to determine the relative cost of each type of error.\n",
    "- Weighted metrics."
   ]
  },
  {
   "cell_type": "markdown",
   "id": "eeb0c333",
   "metadata": {
    "id": "eeb0c333"
   },
   "source": [
    "#### Model 4: Random Forest"
   ]
  },
  {
   "cell_type": "markdown",
   "id": "5704bac2",
   "metadata": {
    "id": "5704bac2"
   },
   "source": [
    "To achieve both cost-efficiency and accurate prediction of CLABSI cases, we have determined that the Random Forest model is the most appropriate choice for this project. Its strong performance, resilience to overfitting, and ability to manage class imbalance make it well-suited for healthcare datasets. This model not only enhances classification accuracy but also aids in identifying key clinical indicators associated with CLABSI risk.\n",
    "\n",
    "Additionally, maintaining ongoing collaboration with healthcare professionals is essential. Their insights ensure that the project remains aligned with real-world needs and help guide the refinement of the model, particularly in balancing false positives and false negatives. This collaboration ultimately contributes to delivering reliable predictions and better clinical outcomes."
   ]
  },
  {
   "cell_type": "markdown",
   "id": "2615a4c7",
   "metadata": {
    "id": "2615a4c7"
   },
   "source": [
    "## Evaluation Plan"
   ]
  },
  {
   "cell_type": "markdown",
   "id": "e3f935f7",
   "metadata": {
    "id": "e3f935f7"
   },
   "source": [
    "## Reflection"
   ]
  },
  {
   "cell_type": "markdown",
   "id": "7195d98a",
   "metadata": {
    "id": "7195d98a"
   },
   "source": [
    "### Summary"
   ]
  },
  {
   "cell_type": "code",
   "execution_count": 1,
   "id": "dd5738a7-58e9-4e54-92c3-3da312b1a3b5",
   "metadata": {
    "id": "dd5738a7-58e9-4e54-92c3-3da312b1a3b5",
    "outputId": "17984ee3-26ee-42f5-bac8-6d51cf0b7261"
   },
   "outputs": [
    {
     "name": "stdout",
     "output_type": "stream",
     "text": [
      "Requirement already satisfied: scikit-learn in /opt/anaconda3/lib/python3.12/site-packages (1.5.1)\n",
      "Requirement already satisfied: numpy>=1.19.5 in /opt/anaconda3/lib/python3.12/site-packages (from scikit-learn) (1.26.4)\n",
      "Requirement already satisfied: scipy>=1.6.0 in /opt/anaconda3/lib/python3.12/site-packages (from scikit-learn) (1.13.1)\n",
      "Requirement already satisfied: joblib>=1.2.0 in /opt/anaconda3/lib/python3.12/site-packages (from scikit-learn) (1.4.2)\n",
      "Requirement already satisfied: threadpoolctl>=3.1.0 in /opt/anaconda3/lib/python3.12/site-packages (from scikit-learn) (3.5.0)\n"
     ]
    }
   ],
   "source": [
    "!pip install scikit-learn\n"
   ]
  },
  {
   "cell_type": "code",
   "execution_count": 3,
   "id": "7645456e-05df-4a84-bebf-108b918ae331",
   "metadata": {
    "id": "7645456e-05df-4a84-bebf-108b918ae331",
    "outputId": "58edef2c-684f-4277-df4b-0825ebf3096e"
   },
   "outputs": [
    {
     "name": "stderr",
     "output_type": "stream",
     "text": [
      "/var/folders/v8/nl5w80s97h132p4tyv3dwjcw0000gn/T/ipykernel_64754/1590464547.py:13: DtypeWarning: Columns (10,15) have mixed types. Specify dtype option on import or set low_memory=False.\n",
      "  df = pd.read_csv('bzan6361_clabsi_1.csv')  # Ensure the correct file path\n"
     ]
    },
    {
     "name": "stdout",
     "output_type": "stream",
     "text": [
      "Dataset dimensions: (14236, 278)\n",
      "Training Set Shape: (11388, 272)\n",
      "Testing Set Shape: (2848, 272)\n"
     ]
    },
    {
     "name": "stderr",
     "output_type": "stream",
     "text": [
      "/opt/anaconda3/lib/python3.12/site-packages/sklearn/metrics/_classification.py:1531: UndefinedMetricWarning: Precision is ill-defined and being set to 0.0 in labels with no predicted samples. Use `zero_division` parameter to control this behavior.\n",
      "  _warn_prf(average, modifier, f\"{metric.capitalize()} is\", len(result))\n",
      "/opt/anaconda3/lib/python3.12/site-packages/sklearn/metrics/_classification.py:1531: UndefinedMetricWarning: Precision is ill-defined and being set to 0.0 in labels with no predicted samples. Use `zero_division` parameter to control this behavior.\n",
      "  _warn_prf(average, modifier, f\"{metric.capitalize()} is\", len(result))\n",
      "/opt/anaconda3/lib/python3.12/site-packages/sklearn/metrics/_classification.py:1531: UndefinedMetricWarning: Precision is ill-defined and being set to 0.0 in labels with no predicted samples. Use `zero_division` parameter to control this behavior.\n",
      "  _warn_prf(average, modifier, f\"{metric.capitalize()} is\", len(result))\n"
     ]
    },
    {
     "name": "stdout",
     "output_type": "stream",
     "text": [
      "Performance Summary:\n",
      "               precision    recall  f1-score   support\n",
      "\n",
      "       False       1.00      1.00      1.00      2838\n",
      "        True       0.00      0.00      0.00        10\n",
      "\n",
      "    accuracy                           1.00      2848\n",
      "   macro avg       0.50      0.50      0.50      2848\n",
      "weighted avg       0.99      1.00      0.99      2848\n",
      "\n",
      "Confusion Matrix:\n",
      " [[2838    0]\n",
      " [  10    0]]\n"
     ]
    },
    {
     "data": {
      "image/png": "[encoded data removed]",
      "text/plain": [
       "<Figure size 640x480 with 2 Axes>"
      ]
     },
     "metadata": {},
     "output_type": "display_data"
    }
   ],
   "source": [
    "import pandas as pd\n",
    "from sklearn.model_selection import train_test_split\n",
    "from sklearn.ensemble import RandomForestClassifier\n",
    "from sklearn.metrics import classification_report, confusion_matrix\n",
    "from sklearn.pipeline import Pipeline\n",
    "from sklearn.impute import SimpleImputer\n",
    "from sklearn.preprocessing import OneHotEncoder\n",
    "from sklearn.compose import ColumnTransformer\n",
    "import seaborn as sns\n",
    "import matplotlib.pyplot as plt\n",
    "\n",
    "# Step 1: Load the dataset\n",
    "df = pd.read_csv('bzan6361_clabsi_1.csv')  # Ensure the correct file path\n",
    "print(\"Dataset dimensions:\", df.shape)\n",
    "\n",
    "# Step 2: Data Cleaning and Preparation\n",
    "# Remove unnecessary columns\n",
    "columns_to_exclude = ['PatientKey', 'EncounterKey', 'InsertionDate', 'ClabsiDTS',\n",
    "                      'MostRecentClabsiDTS', 'LastAncDate', 'LastAnc']\n",
    "df = df.drop(columns=columns_to_exclude, errors='ignore')\n",
    "\n",
    "# Fill missing numerical values with the median\n",
    "df.fillna(df.select_dtypes(include=['number']).median(), inplace=True)\n",
    "\n",
    "# Step 3: Convert date columns to datetime format\n",
    "date_columns = ['Date']  # Adjust as needed\n",
    "for col in date_columns:\n",
    "    df[col] = pd.to_datetime(df[col], errors='coerce')\n",
    "\n",
    "# Extract features from the date column\n",
    "df['Year'] = df['Date'].dt.year\n",
    "df['Month'] = df['Date'].dt.month\n",
    "df['Day'] = df['Date'].dt.day\n",
    "df.drop(columns=date_columns, inplace=True)  # Drop original date column\n",
    "\n",
    "# Step 4: Define Features and Target Variable\n",
    "target_variable = 'HasCLABSI'\n",
    "X = df.drop(columns=[target_variable])\n",
    "y = df[target_variable]\n",
    "\n",
    "# Identify categorical and numerical columns\n",
    "categorical_features = X.select_dtypes(include=['object']).columns\n",
    "numerical_features = X.select_dtypes(exclude=['object']).columns\n",
    "\n",
    "# Step 5: Data Preprocessing\n",
    "preprocessing_pipeline = ColumnTransformer(\n",
    "    transformers=[\n",
    "        ('num', SimpleImputer(strategy='median'), numerical_features),\n",
    "        ('cat', OneHotEncoder(handle_unknown='ignore'), categorical_features)\n",
    "    ]\n",
    ")\n",
    "\n",
    "# Step 6: Build the Model Pipeline\n",
    "model_pipeline = Pipeline(steps=[\n",
    "    ('preprocessor', preprocessing_pipeline),\n",
    "    ('classifier', RandomForestClassifier(random_state=42))\n",
    "])\n",
    "\n",
    "# Step 7: Split Data into Training and Testing Sets\n",
    "X_train, X_test, y_train, y_test = train_test_split(X, y, test_size=0.2,\n",
    "                                                    random_state=42, stratify=y)\n",
    "print(\"Training Set Shape:\", X_train.shape)\n",
    "print(\"Testing Set Shape:\", X_test.shape)\n",
    "\n",
    "# Step 8: Train the Model\n",
    "model_pipeline.fit(X_train, y_train)\n",
    "\n",
    "# Step 9: Make Predictions and Evaluate Performance\n",
    "y_pred = model_pipeline.predict(X_test)\n",
    "\n",
    "print(\"Performance Summary:\\n\", classification_report(y_test, y_pred))\n",
    "print(\"Confusion Matrix:\\n\", confusion_matrix(y_test, y_pred))\n",
    "\n",
    "# Step 10: Visualize the Confusion Matrix with Green Color\n",
    "conf_matrix = confusion_matrix(y_test, y_pred)\n",
    "sns.heatmap(conf_matrix, annot=True, fmt='d', cmap='Greens',\n",
    "            xticklabels=['No Infection', 'Infection'],\n",
    "            yticklabels=['No Infection', 'Infection'])\n",
    "plt.title('Confusion Matrix for CLABSI Prediction')\n",
    "plt.ylabel('Actual Outcome')\n",
    "plt.xlabel('Predicted Outcome')\n",
    "plt.show()\n",
    "\n"
   ]
  },
  {
   "cell_type": "code",
   "execution_count": 5,
   "id": "6b79bd8e",
   "metadata": {
    "id": "6b79bd8e",
    "outputId": "b5c67301-b9be-4219-d554-d569172d6d71"
   },
   "outputs": [
    {
     "name": "stdout",
     "output_type": "stream",
     "text": [
      "Requirement already satisfied: pandas in /opt/anaconda3/lib/python3.12/site-packages (2.2.2)\n",
      "Requirement already satisfied: scikit-learn in /opt/anaconda3/lib/python3.12/site-packages (1.5.1)\n",
      "Requirement already satisfied: matplotlib in /opt/anaconda3/lib/python3.12/site-packages (3.9.2)\n",
      "Requirement already satisfied: numpy>=1.26.0 in /opt/anaconda3/lib/python3.12/site-packages (from pandas) (1.26.4)\n",
      "Requirement already satisfied: python-dateutil>=2.8.2 in /opt/anaconda3/lib/python3.12/site-packages (from pandas) (2.9.0.post0)\n",
      "Requirement already satisfied: pytz>=2020.1 in /opt/anaconda3/lib/python3.12/site-packages (from pandas) (2024.1)\n",
      "Requirement already satisfied: tzdata>=2022.7 in /opt/anaconda3/lib/python3.12/site-packages (from pandas) (2023.3)\n",
      "Requirement already satisfied: scipy>=1.6.0 in /opt/anaconda3/lib/python3.12/site-packages (from scikit-learn) (1.13.1)\n",
      "Requirement already satisfied: joblib>=1.2.0 in /opt/anaconda3/lib/python3.12/site-packages (from scikit-learn) (1.4.2)\n",
      "Requirement already satisfied: threadpoolctl>=3.1.0 in /opt/anaconda3/lib/python3.12/site-packages (from scikit-learn) (3.5.0)\n",
      "Requirement already satisfied: contourpy>=1.0.1 in /opt/anaconda3/lib/python3.12/site-packages (from matplotlib) (1.2.0)\n",
      "Requirement already satisfied: cycler>=0.10 in /opt/anaconda3/lib/python3.12/site-packages (from matplotlib) (0.11.0)\n",
      "Requirement already satisfied: fonttools>=4.22.0 in /opt/anaconda3/lib/python3.12/site-packages (from matplotlib) (4.51.0)\n",
      "Requirement already satisfied: kiwisolver>=1.3.1 in /opt/anaconda3/lib/python3.12/site-packages (from matplotlib) (1.4.4)\n",
      "Requirement already satisfied: packaging>=20.0 in /opt/anaconda3/lib/python3.12/site-packages (from matplotlib) (24.1)\n",
      "Requirement already satisfied: pillow>=8 in /opt/anaconda3/lib/python3.12/site-packages (from matplotlib) (10.4.0)\n",
      "Requirement already satisfied: pyparsing>=2.3.1 in /opt/anaconda3/lib/python3.12/site-packages (from matplotlib) (3.1.2)\n",
      "Requirement already satisfied: six>=1.5 in /opt/anaconda3/lib/python3.12/site-packages (from python-dateutil>=2.8.2->pandas) (1.16.0)\n",
      "Note: you may need to restart the kernel to use updated packages.\n"
     ]
    }
   ],
   "source": [
    "pip install pandas scikit-learn matplotlib\n"
   ]
  },
  {
   "cell_type": "code",
   "execution_count": null,
   "id": "958735ad",
   "metadata": {
    "id": "958735ad",
    "outputId": "0b421cf3-876a-46a8-ef67-4b6a7f4a6dba"
   },
   "outputs": [
    {
     "data": {
      "image/png": "[encoded data removed]",
      "text/plain": [
       "<Figure size 1000x600 with 1 Axes>"
      ]
     },
     "metadata": {},
     "output_type": "display_data"
    },
    {
     "name": "stdout",
     "output_type": "stream",
     "text": [
      "Variance Explained by Each Principal Component:\n",
      "PC1: 10.80%\n",
      "PC2: 5.10%\n",
      "PC3: 3.95%\n"
     ]
    }
   ],
   "source": [
    "import pandas as pd\n",
    "import numpy as np\n",
    "import matplotlib.pyplot as plt\n",
    "from sklearn.decomposition import PCA\n",
    "from sklearn.preprocessing import StandardScaler\n",
    "\n",
    "# Step 1: Loaded my dataset\n",
    "\n",
    "\n",
    "# Step 2: Preprocess the data\n",
    "# Dropping irrelevant columns (if necessary) and separating features\n",
    "features = data.drop(columns=['HasCLABSI'])  # Adjust this based on your target variable\n",
    "features = features.select_dtypes(include=[np.number])  # Selecting only numeric columns\n",
    "\n",
    "# Step 3: Standardize the data\n",
    "scaler = StandardScaler()\n",
    "features_scaled = scaler.fit_transform(features)\n",
    "\n",
    "# Step 4: Perform PCA\n",
    "pca = PCA()\n",
    "pca.fit(features_scaled)\n",
    "\n",
    "# Step 5: Get the explained variance for each principal component\n",
    "explained_variance = pca.explained_variance_ratio_\n",
    "\n",
    "# Step 6: Create a bar chart for the variance explained by the first 8 components\n",
    "plt.figure(figsize=(10, 6))\n",
    "plt.bar(range(1, 9), explained_variance[:8], alpha=0.7, color='brown')\n",
    "plt.xticks(range(1, 9), [f'PC{i}' for i in range(1, 9)])\n",
    "plt.title('Variance Explained by Principal Components')\n",
    "plt.xlabel('Principal Component')\n",
    "plt.ylabel('Variance Explained')\n",
    "\n",
    "# Annotating the bar chart with the exact variance values\n",
    "for i, v in enumerate(explained_variance[:8]):\n",
    "    plt.text(i + 1, v + 0.02, f\"{v:.2f}\", ha='center', color='black')\n",
    "\n",
    "# Adjust the y-axis limits\n",
    "plt.ylim(0, 0.4)\n",
    "\n",
    "# Step 7: Show the plot\n",
    "plt.show()\n",
    "\n",
    "# Print variance explained for each of the first three components\n",
    "print(\"Variance Explained by Each Principal Component:\")\n",
    "for i, variance in enumerate(explained_variance[:3], start=1):\n",
    "    print(f'PC{i}: {variance:.2%}')\n"
   ]
  },
  {
   "cell_type": "markdown",
   "id": "69ba1621",
   "metadata": {
    "id": "69ba1621"
   },
   "source": [
    "- The eight principal components, labeled PC1 through PC8, are newly constructed variables obtained through Principal Component Analysis. Each of these components holds a portion of the total variance present in the original dataset. PC1 captures the largest share of this variance at 10.80%, followed by PC2 at 5.10%, and PC3 at 3.95%. The remaining components each account for decreasing amounts of variance. This set of components allows for a streamlined representation of the data, effectively reducing complexity while preserving the most meaningful patterns. Selecting these eight components strikes a practical balance between simplifying the dataset and retaining critical information - particularly important when analyzing imbalanced datasets such as those used for CLABSI prediction."
   ]
  },
  {
   "cell_type": "markdown",
   "id": "ac0df132",
   "metadata": {
    "id": "ac0df132"
   },
   "source": [
    "### Cross-validation scores for 5 trails"
   ]
  },
  {
   "cell_type": "code",
   "execution_count": 7,
   "id": "718a8cc5-32dc-4ced-9cfe-9c0e894d5db6",
   "metadata": {
    "id": "718a8cc5-32dc-4ced-9cfe-9c0e894d5db6",
    "outputId": "c9c59291-7b4d-452b-ac81-a079cef9f22e"
   },
   "outputs": [
    {
     "ename": "NameError",
     "evalue": "name 'data' is not defined",
     "output_type": "error",
     "traceback": [
      "\u001b[0;31m---------------------------------------------------------------------------\u001b[0m",
      "\u001b[0;31mNameError\u001b[0m                                 Traceback (most recent call last)",
      "Cell \u001b[0;32mIn[7], line 15\u001b[0m\n\u001b[1;32m      9\u001b[0m \u001b[38;5;28;01mfrom\u001b[39;00m \u001b[38;5;21;01msklearn\u001b[39;00m\u001b[38;5;21;01m.\u001b[39;00m\u001b[38;5;21;01mimpute\u001b[39;00m \u001b[38;5;28;01mimport\u001b[39;00m SimpleImputer\n\u001b[1;32m     11\u001b[0m \u001b[38;5;66;03m# Load your data\u001b[39;00m\n\u001b[1;32m     12\u001b[0m \u001b[38;5;66;03m# data = pd.read_csv('/mnt/data/your_dataset.csv')  # Replace with the correct file path if necessary\u001b[39;00m\n\u001b[1;32m     13\u001b[0m \n\u001b[1;32m     14\u001b[0m \u001b[38;5;66;03m# Assume 'HasCLABSI' is the target variable\u001b[39;00m\n\u001b[0;32m---> 15\u001b[0m features \u001b[38;5;241m=\u001b[39m data\u001b[38;5;241m.\u001b[39mdrop(columns\u001b[38;5;241m=\u001b[39m[\u001b[38;5;124m'\u001b[39m\u001b[38;5;124mHasCLABSI\u001b[39m\u001b[38;5;124m'\u001b[39m])\n\u001b[1;32m     16\u001b[0m target \u001b[38;5;241m=\u001b[39m data[\u001b[38;5;124m'\u001b[39m\u001b[38;5;124mHasCLABSI\u001b[39m\u001b[38;5;124m'\u001b[39m]\n\u001b[1;32m     18\u001b[0m \u001b[38;5;66;03m# Identify categorical and numerical columns\u001b[39;00m\n",
      "\u001b[0;31mNameError\u001b[0m: name 'data' is not defined"
     ]
    }
   ],
   "source": [
    "import pandas as pd\n",
    "import numpy as np\n",
    "import matplotlib.pyplot as plt\n",
    "from sklearn.model_selection import train_test_split, cross_val_score\n",
    "from sklearn.ensemble import RandomForestClassifier\n",
    "from sklearn.preprocessing import OneHotEncoder\n",
    "from sklearn.compose import ColumnTransformer\n",
    "from sklearn.pipeline import Pipeline\n",
    "from sklearn.impute import SimpleImputer\n",
    "\n",
    "# Load your data\n",
    "# data = pd.read_csv('/mnt/data/your_dataset.csv')  # Replace with the correct file path if necessary\n",
    "\n",
    "# Assume 'HasCLABSI' is the target variable\n",
    "features = data.drop(columns=['HasCLABSI'])\n",
    "target = data['HasCLABSI']\n",
    "\n",
    "# Identify categorical and numerical columns\n",
    "categorical_columns = features.select_dtypes(include=['object']).columns.tolist()\n",
    "numerical_columns = features.select_dtypes(exclude=['object']).columns.tolist()\n",
    "\n",
    "# Define a ColumnTransformer for preprocessing\n",
    "data_preprocessor = ColumnTransformer(\n",
    "    transformers=[\n",
    "        ('numerical', Pipeline([\n",
    "            ('imputer', SimpleImputer(strategy='median')),  # Impute missing values\n",
    "            ('scaler', 'passthrough')  # Keep numerical features as they are\n",
    "        ]), numerical_columns),\n",
    "\n",
    "        ('categorical', Pipeline([\n",
    "            ('imputer', SimpleImputer(strategy='constant', fill_value='missing')),  # Handle missing values in categorical data\n",
    "            ('onehot', OneHotEncoder(handle_unknown='ignore'))  # One-hot encode categorical features\n",
    "        ]), categorical_columns)\n",
    "    ]\n",
    ")\n",
    "\n",
    "# Initialize an empty list to store cross-validation scores for each trial\n",
    "cross_validation_scores = []\n",
    "\n",
    "# Run 5 trials with slightly different random states or configurations\n",
    "for trial_num in range(5):\n",
    "    # Create a Random Forest model within a Pipeline\n",
    "    rf_model = Pipeline(steps=[\n",
    "        ('preprocessing', data_preprocessor),  # Apply preprocessing\n",
    "        ('classifier', RandomForestClassifier(random_state=42 + trial_num))  # Use a different random state for each trial\n",
    "    ])\n",
    "\n",
    "    # Split the data into training and testing sets\n",
    "    X_train, X_test, y_train, y_test = train_test_split(features, target, test_size=0.2, random_state=42 + trial_num)\n",
    "\n",
    "    # Perform Cross-Validation for the current trial\n",
    "    cv_scores = cross_val_score(rf_model, X_train, y_train, cv=5)  # 5-fold cross-validation\n",
    "\n",
    "    # Append the scores to the list for plotting later\n",
    "    cross_validation_scores.append(cv_scores)\n",
    "\n",
    "# Plotting the cross-validation scores for each trial\n",
    "plt.figure(figsize=(10, 6))\n",
    "\n",
    "# Plot each trial's cross-validation scores using purple color\n",
    "for trial_index, cv_scores in enumerate(cross_validation_scores, start=1):\n",
    "    plt.plot(range(1, 6), cv_scores, marker='o', linestyle='-', color='purple', label=f'Trial {trial_index}')\n",
    "\n",
    "# Adding labels and title\n",
    "plt.title('Scores of Cross Validation for Random Forest (5 Trials)', fontsize=16)\n",
    "plt.xlabel('Fold', fontsize=14)\n",
    "plt.ylabel('Random Forest Accuracy', fontsize=14)\n",
    "plt.ylim(0.95, 1.0)  # Adjust y-limits for better visibility\n",
    "plt.xticks(range(1, 6))\n",
    "plt.legend()\n",
    "plt.grid(True)\n",
    "plt.show()\n"
   ]
  },
  {
   "cell_type": "code",
   "execution_count": null,
   "id": "uSO0DUcRGDDl",
   "metadata": {
    "id": "uSO0DUcRGDDl"
   },
   "outputs": [],
   "source": []
  }
 ],
 "metadata": {
  "colab": {
   "provenance": []
  },
  "kernelspec": {
   "display_name": "Python [conda env:base] *",
   "language": "python",
   "name": "conda-base-py"
  },
  "language_info": {
   "codemirror_mode": {
    "name": "ipython",
    "version": 3
   },
   "file_extension": ".py",
   "mimetype": "text/x-python",
   "name": "python",
   "nbconvert_exporter": "python",
   "pygments_lexer": "ipython3",
   "version": "3.12.7"
  }
 },
 "nbformat": 4,
 "nbformat_minor": 5
}
